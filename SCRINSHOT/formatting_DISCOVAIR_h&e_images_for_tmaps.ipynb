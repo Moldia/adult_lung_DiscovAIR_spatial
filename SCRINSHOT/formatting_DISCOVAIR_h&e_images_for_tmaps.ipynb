{
 "cells": [
  {
   "cell_type": "code",
   "execution_count": 1,
   "metadata": {},
   "outputs": [],
   "source": [
    "import matplotlib as plt\n",
    "import tifffile as tff\n",
    "from PIL import Image\n",
    "import os\n",
    "import PIL\n",
    "PIL.Image.MAX_IMAGE_PIXELS = 933120000"
   ]
  },
  {
   "cell_type": "code",
   "execution_count": 2,
   "metadata": {},
   "outputs": [],
   "source": [
    "mainp=r'F:\\SCRINSHOT_tissuumaps\\healthy\\tissuumaps-shared'\n",
    "outpath=r'F:\\SCRINSHOT_tissuumaps\\healthy\\tissuumaps-shared/rescaled'"
   ]
  },
  {
   "cell_type": "code",
   "execution_count": 9,
   "metadata": {},
   "outputs": [],
   "source": [
    "files=[ '583-LNG2_histology.tif',\n",
    " '583-LNG3_HE_aligned.tiff',\n",
    " '583-LNG5_HE_aligned_ORG.tif',\n",
    " '588-2-LNG3_histology_aligned.tif',\n",
    " '588-2-LNG6_histology_aligned.tiff',\n",
    " '588-LNG2_HE_aligned.tiff',\n",
    " '640-LNG2-histology_aligned.tiff',\n",
    " '640-LNG3-SCRINSHOT_histology_aligned.tiff',\n",
    " '640-LNG5-histology_aligned.tiff',\n",
    " '689-LNG1-btm-histology_aligned.tiff',\n",
    " '689-LNG3-histology-alinged.tiff']"
   ]
  },
  {
   "cell_type": "code",
   "execution_count": 12,
   "metadata": {},
   "outputs": [],
   "source": [
    "path=mainp+'/'+ss\n",
    "im=Image.open(path)"
   ]
  },
  {
   "cell_type": "code",
   "execution_count": null,
   "metadata": {},
   "outputs": [
    {
     "name": "stdout",
     "output_type": "stream",
     "text": [
      "583-LNG2_histology.tif\n",
      "583-LNG3_HE_aligned.tiff\n",
      "583-LNG5_HE_aligned_ORG.tif\n",
      "588-2-LNG3_histology_aligned.tif\n",
      "588-2-LNG6_histology_aligned.tiff\n",
      "588-LNG2_HE_aligned.tiff\n",
      "640-LNG2-histology_aligned.tiff\n",
      "640-LNG3-SCRINSHOT_histology_aligned.tiff\n",
      "640-LNG5-histology_aligned.tiff\n",
      "689-LNG1-btm-histology_aligned.tiff\n",
      "689-LNG3-histology-alinged.tiff\n"
     ]
    }
   ],
   "source": [
    "for ss in files:\n",
    "#    try:\n",
    "    print(ss)\n",
    "    path=mainp+'/'+ss\n",
    "    im=Image.open(path)\n",
    "    division=5\n",
    "  #  im.mode='I'\n",
    "    i = im.size   # current size (height,width)\n",
    "    i = i[0]//division, i[1]//division# new size\n",
    "    newimage = im.resize(i)\n",
    "    outpath2=outpath+'/'+ss\n",
    "    newimage.save(outpath2)\n",
    "#    except:\n",
    "#        print('notposs')\n",
    "import pandas as pd"
   ]
  },
  {
   "cell_type": "code",
   "execution_count": 16,
   "metadata": {},
   "outputs": [],
   "source": [
    "mainp=r'E:\\heart\\processed_samples_cleaned_publication_viewer\\heart_ISS_2023'"
   ]
  },
  {
   "cell_type": "code",
   "execution_count": 18,
   "metadata": {},
   "outputs": [],
   "source": [
    "import pandas as pd\n",
    "for ss in os.listdir(mainp):\n",
    "    path=mainp+'/'+ss\n",
    "    tab=pd.read_csv(path+'/decoded_CARE_filt04min_resized.csv')\n",
    "    tab=tab.loc[:,['xc','yc','target','code','quality_minimum','quality_mean']]\n",
    "    tab.to_csv(path+'/decoded_CARE_filt04min_resized.csv')"
   ]
  },
  {
   "cell_type": "code",
   "execution_count": null,
   "metadata": {},
   "outputs": [],
   "source": []
  },
  {
   "cell_type": "code",
   "execution_count": 9,
   "metadata": {
    "scrolled": true
   },
   "outputs": [],
   "source": []
  },
  {
   "cell_type": "code",
   "execution_count": null,
   "metadata": {},
   "outputs": [],
   "source": []
  },
  {
   "cell_type": "code",
   "execution_count": null,
   "metadata": {},
   "outputs": [],
   "source": [
    "imag.resize((int(imag.size[0]),int(imag.size[1])))"
   ]
  }
 ],
 "metadata": {
  "kernelspec": {
   "display_name": "scanpy",
   "language": "python",
   "name": "scanpy"
  },
  "language_info": {
   "codemirror_mode": {
    "name": "ipython",
    "version": 3
   },
   "file_extension": ".py",
   "mimetype": "text/x-python",
   "name": "python",
   "nbconvert_exporter": "python",
   "pygments_lexer": "ipython3",
   "version": "3.8.5"
  }
 },
 "nbformat": 4,
 "nbformat_minor": 4
}
