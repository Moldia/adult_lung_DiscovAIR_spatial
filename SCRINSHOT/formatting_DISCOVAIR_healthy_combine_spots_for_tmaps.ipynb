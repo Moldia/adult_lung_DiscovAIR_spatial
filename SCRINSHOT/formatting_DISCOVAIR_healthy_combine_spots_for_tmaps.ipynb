{
 "cells": [
  {
   "cell_type": "code",
   "execution_count": 1,
   "metadata": {},
   "outputs": [],
   "source": [
    "import matplotlib as plt\n",
    "import tifffile as tff\n",
    "from PIL import Image\n",
    "import os\n",
    "import PIL\n",
    "PIL.Image.MAX_IMAGE_PIXELS = 933120000\n",
    "import pandas as pd\n",
    "import numpy as np"
   ]
  },
  {
   "cell_type": "code",
   "execution_count": 2,
   "metadata": {},
   "outputs": [],
   "source": [
    "mainp=r'F:\\SCRINSHOT_tissuumaps\\healthy\\tissuumaps-shared\\spots'\n",
    "folders=[f for f in os.listdir(mainp) if '.csv' not in f]"
   ]
  },
  {
   "cell_type": "code",
   "execution_count": 3,
   "metadata": {},
   "outputs": [],
   "source": [
    "for f in folders:\n",
    "    print(f)\n",
    "    spl=f.split('-')\n",
    "    filename=spl[0]+'_'+spl[1]+'_spots.csv'\n",
    "    combined=[]\n",
    "    allf=os.listdir(mainp+'/'+f)\n",
    "    for ff in allf:\n",
    "        exp=pd.read_csv(mainp+'/'+f+'/'+ff)\n",
    "        exp=exp.loc[:,['X','Y']]\n",
    "        exp['Gene']=ff.split('.csv')[0]\n",
    "        combined.append(exp)\n",
    "    allexp=pd.concat(combined)\n",
    "    allexp.to_csv(mainp+'/'+filename)"
   ]
  },
  {
   "cell_type": "markdown",
   "metadata": {},
   "source": [
    "# correcting scgb3a2 in 689_lng1\n"
   ]
  },
  {
   "cell_type": "code",
   "execution_count": 6,
   "metadata": {},
   "outputs": [],
   "source": [
    "spots=pd.read_csv(r'F:\\SCRINSHOT_tissuumaps\\healthy\\tissuumaps-shared\\spots\\689_LNG1_spots.csv')\n",
    "newgene=pd.read_csv(r'F:\\SCGB3A2.csv')\n",
    "spots2=spots[~spots['Gene'].isin(['SCGB3A2'])]\n",
    "g2=newgene.loc[:,['X','Y']]\n",
    "g2=g2.reset_index()\n",
    "g2['Gene']='SCGB3A2'\n",
    "g2.columns=spots2.columns\n",
    "spots3=pd.concat([spots2,g2],axis=0)\n",
    "spots3.to_csv(r'F:\\SCRINSHOT_tissuumaps\\healthy\\tissuumaps-shared\\spots\\689_LNG1_spots.csv')"
   ]
  },
  {
   "cell_type": "markdown",
   "metadata": {},
   "source": [
    "modifying x axis in 583_lng2"
   ]
  },
  {
   "cell_type": "code",
   "execution_count": 31,
   "metadata": {},
   "outputs": [],
   "source": [
    "spots=pd.read_csv(r'F:\\SCRINSHOT_tissuumaps\\healthy\\tissuumaps-shared\\spots\\583_LNG2_spots.csv')\n"
   ]
  },
  {
   "cell_type": "code",
   "execution_count": 34,
   "metadata": {},
   "outputs": [],
   "source": [
    "spots['X']=spots['X']-4180"
   ]
  },
  {
   "cell_type": "code",
   "execution_count": 36,
   "metadata": {},
   "outputs": [],
   "source": [
    "spots=spots[spots['X']>0]"
   ]
  },
  {
   "cell_type": "code",
   "execution_count": 37,
   "metadata": {
    "scrolled": true
   },
   "outputs": [],
   "source": [
    "spots.to_csv(r'F:\\SCRINSHOT_tissuumaps\\healthy\\tissuumaps-shared\\spots\\583_LNG2_spots.csv')\n"
   ]
  },
  {
   "cell_type": "code",
   "execution_count": 30,
   "metadata": {},
   "outputs": [],
   "source": []
  },
  {
   "cell_type": "code",
   "execution_count": null,
   "metadata": {},
   "outputs": [],
   "source": []
  }
 ],
 "metadata": {
  "kernelspec": {
   "display_name": "scanpy",
   "language": "python",
   "name": "scanpy"
  },
  "language_info": {
   "codemirror_mode": {
    "name": "ipython",
    "version": 3
   },
   "file_extension": ".py",
   "mimetype": "text/x-python",
   "name": "python",
   "nbconvert_exporter": "python",
   "pygments_lexer": "ipython3",
   "version": "3.8.5"
  }
 },
 "nbformat": 4,
 "nbformat_minor": 4
}
