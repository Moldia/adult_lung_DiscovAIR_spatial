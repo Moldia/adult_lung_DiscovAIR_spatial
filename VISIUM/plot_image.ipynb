{
 "cells": [
  {
   "cell_type": "code",
   "execution_count": 1,
   "metadata": {},
   "outputs": [],
   "source": [
    "import scanpy as sc\n",
    "import matplotlib.pyplot as plt\n",
    "import os \n",
    "import numpy as np\n",
    "import pandas as pd"
   ]
  },
  {
   "cell_type": "code",
   "execution_count": 2,
   "metadata": {},
   "outputs": [],
   "source": [
    "path=r'F:\\DiscovAir_data_explorer-master\\DiscovAir_data_explorer-master\\LNG3_P583\\www\\map1\\tiles'"
   ]
  },
  {
   "cell_type": "code",
   "execution_count": 3,
   "metadata": {},
   "outputs": [],
   "source": [
    "def compose_image(path):\n",
    "    fils=os.listdir(path)\n",
    "    #ylen=len(files)\n",
    "    pathin=path+'/'+fils[2]\n",
    "    ylen=len(os.listdir(pathin))\n",
    "    pth=pathin+'/'+os.listdir(pathin)[0]\n",
    "    files=os.listdir(pth)\n",
    "    xlen=len(files)\n",
    "    for p in files:\n",
    "        IM=plt.imread(pth+'/'+p)\n",
    "    pixelsize=IM.shape[0]\n",
    "    dimensions=4\n",
    "    image=np.zeros([xlen*pixelsize,ylen*pixelsize,dimensions])\n",
    "    ee=0\n",
    "    for e in os.listdir(pathin):\n",
    "        pth=pathin+'/'+e\n",
    "        ss=0\n",
    "        for s in os.listdir(pth):\n",
    "            IM=plt.imread(pth+'/'+s)\n",
    "            image[(ss*pixelsize):(ss*pixelsize)+pixelsize,(ee*pixelsize):(ee*pixelsize)+pixelsize,:]=IM\n",
    "            ss=ss+1\n",
    "        ee=ee+1\n",
    "    return image"
   ]
  },
  {
   "cell_type": "code",
   "execution_count": 4,
   "metadata": {},
   "outputs": [],
   "source": [
    "image=compose_image(path)"
   ]
  },
  {
   "cell_type": "code",
   "execution_count": 5,
   "metadata": {},
   "outputs": [
    {
     "name": "stderr",
     "output_type": "stream",
     "text": [
      "C:\\Users\\sergio.salas\\AppData\\Local\\pymol\\lib\\site-packages\\ipykernel_launcher.py:5: FutureWarning: X.dtype being converted to np.float32 from float64. In the next version of anndata (0.9) conversion will not be automatic. Pass dtype explicitly to avoid this warning. Pass `AnnData(X, dtype=X.dtype, ...)` to get the future behavour.\n",
      "  \"\"\"\n",
      "C:\\Users\\sergio.salas\\AppData\\Local\\pymol\\lib\\site-packages\\anndata\\_core\\anndata.py:121: ImplicitModificationWarning: Transforming to str index.\n",
      "  warnings.warn(\"Transforming to str index.\", ImplicitModificationWarning)\n",
      "C:\\Users\\sergio.salas\\AppData\\Local\\pymol\\lib\\site-packages\\anndata\\_core\\anndata.py:1828: UserWarning: Observation names are not unique. To make them unique, call `.obs_names_make_unique`.\n",
      "  utils.warn_names_duplicates(\"obs\")\n"
     ]
    }
   ],
   "source": [
    "for sectnum in range(1,8):\n",
    "    coords=pd.read_csv('F:/Visium/LNG3_P583/Section'+str(sectnum)+'/583_LNG3_'+str(sectnum)+'_coords.csv')\n",
    "    stereoscope=pd.read_csv('F:/Visium/LNG3_P583/Section'+str(sectnum)+'/583_LNG3_'+str(sectnum)+'_stereoscope.csv',index_col=0).transpose()\n",
    "    coords['sample']=str(sectnum)\n",
    "    adata=sc.AnnData(stereoscope)\n",
    "    adata.obs=coords\n",
    "    #adata.obs['name']=adata.obs['name'].astype(str)\n",
    "    #adata.obs[\"name\"]=adata.obs[\"name\"].astype('category')\n",
    "    adata.obsm[\"spatial\"]=np.array([adata.obs.pixel_x,adata.obs.pixel_y]).transpose().astype('float64')\n",
    "    #    sq.gr.spatial_neighbors(adata, spatial_key='spatial',radius=20)\n",
    "    try: \n",
    "        adatall=sc.concat([adatall,adata],join='outer')\n",
    "    except:\n",
    "        adatall=adata"
   ]
  },
  {
   "cell_type": "code",
   "execution_count": 6,
   "metadata": {},
   "outputs": [],
   "source": [
    "adatall.obs.index=adatall.obs.index.astype(str)\n",
    "allstereo=pd.DataFrame(adatall.X)\n",
    "allstereo.columns=adata.var.index\n",
    "adata=adatall\n",
    "smp=adatall[adatall.obs['sample']==adatall.obs['sample'].unique()[0]]\n",
    "ss=smp.to_df()\n",
    "col=pd.read_csv('F:/ISS/annotations_dicts/colors_celltype_annotated_general.csv',sep=';')\n",
    "coldict=dict(zip(col['celltype_annotated_general'].astype(str),col['colors']))\n",
    "coldict['SMG intermediate']='blue'\n"
   ]
  },
  {
   "cell_type": "code",
   "execution_count": 7,
   "metadata": {},
   "outputs": [],
   "source": [
    "ss['VE']=np.sum(ss.loc[:,['VE-alveolar-capillary-Car4-aerocyte', 'VE-capillary',\n",
    "       'VE-pulmonary-arterial', 'VE-pulmonary-venous', 'VE-systemic-arterial',\n",
    "       'VE-systemic-venous']],axis=1)"
   ]
  },
  {
   "cell_type": "code",
   "execution_count": 8,
   "metadata": {},
   "outputs": [
    {
     "data": {
      "text/plain": [
       "Index(['AT1', 'AT2', 'B-mature', 'B-naive', 'B-plasma-IgA', 'B-plasma-IgG',\n",
       "       'Basal', 'CD4', 'CD4-TRM/EMRA', 'CD4-naive/CM', 'CD8', 'CD8-CTL',\n",
       "       'CD8-GZMK+', 'CD8-TRM', 'Chondrocyte', 'Ciliated', 'DC-1', 'DC-2',\n",
       "       'DC-activated', 'DC-plasmacytoid', 'Endothelia-Lymphatic',\n",
       "       'Fibro-adventitial', 'Fibro-alveolar', 'Fibro-myofibroblast',\n",
       "       'Fibro-peribronchial', 'Fibro-perichondrial', 'ILC', 'MAIT',\n",
       "       'Macro-AW-CX3CR1', 'Macro-CCL', 'Macro-CHIT1', 'Macro-alv-MT',\n",
       "       'Macro-alveolar', 'Macro-interstitial', 'Macrophage-intermediate',\n",
       "       'Macrophage-intravascular', 'Mast-cell', 'Monocyte-CD14',\n",
       "       'Monocyte-CD16', 'Muscle-pericyte-pulmonary',\n",
       "       'Muscle-perivascular-immune-recruiting', 'Muscle-smooth-airway-ASM',\n",
       "       'Muscle-smooth-pulmonary', 'Muscle-smooth-systemic-arterial', 'NK',\n",
       "       'NKT', 'NK-CD11d', 'NK-CD56bright', 'SMG-Duct', 'SMG-Mucous',\n",
       "       'SMG-Serous', 'Secretory-Club', 'Secretory-Goblet', 'Suprabasal',\n",
       "       'T-reg', 'VE-alveolar-capillary-Car4-aerocyte', 'VE-capillary',\n",
       "       'VE-pulmonary-arterial', 'VE-pulmonary-venous', 'VE-systemic-arterial',\n",
       "       'VE-systemic-venous', 'VE'],\n",
       "      dtype='object')"
      ]
     },
     "execution_count": 8,
     "metadata": {},
     "output_type": "execute_result"
    }
   ],
   "source": [
    "ss.columns"
   ]
  },
  {
   "cell_type": "code",
   "execution_count": 9,
   "metadata": {},
   "outputs": [],
   "source": [
    "coldict['VE-capillary']='yellow'\n",
    "coldict['VE-systemic-arterial']='yellow'\n",
    "coldict['VE']='yellow'\n",
    "coldict['Chondrocyte']='green'\n",
    "coldict['Muscle-smooth-airway-ASM']='magenta'\n",
    "coldict['SMG-Duct']='blue'\n",
    "coldict['Secretory-Club']='red'\n",
    "coldict['Secretory-Goblet']='red'\n",
    "coldict['SMG-Serous']='blue'\n",
    "\n"
   ]
  },
  {
   "cell_type": "code",
   "execution_count": null,
   "metadata": {},
   "outputs": [],
   "source": [
    "plt.figure(figsize=(int(image.shape[0]/300),int(image.shape[1]/300)),dpi=500)\n",
    "plt.imshow(image)\n",
    "cts=['SMG-Serous','Basal','Suprabasal','Chondrocyte','VE','Muscle-smooth-airway-ASM','Secretory-Club','Secretory-Goblet']\n",
    "#plt.figure(figsize=(int(image.shape[0]/300),int(image.shape[1]/300)),dpi=500)\n",
    "for ct in cts:\n",
    "    plt.figure()\n",
    "    plt.scatter(smp.obs['pixel_x']*4,smp.obs['pixel_y']*4,alpha=ss[ct],c=coldict[ct],s=15,linewidth=0)\n",
    "#    plt.title(ct)\n",
    "    plt.xlim(0,image.shape[0])\n",
    "    plt.ylim(0,image.shape[1])\n",
    "    plt.title(ct+'_'+str(np.round(np.max(ss[ct]),1)))\n",
    "    plt.savefig(r'F:\\ISS\\plots_for_publication\\visium/plot_sp_lng5_'+str(cts)+'.pdf')"
   ]
  },
  {
   "cell_type": "code",
   "execution_count": null,
   "metadata": {
    "scrolled": true
   },
   "outputs": [],
   "source": [
    "plt.figure(figsize=(int(image.shape[0]/300),int(image.shape[1]/300)),dpi=500)\n",
    "plt.imshow(image)\n",
    "cts=['SMG-Serous','Basal','Suprabasal','Chondrocyte','VE','Muscle-smooth-airway-ASM','Secretory-Club','Secretory-Goblet']\n",
    "#plt.figure(figsize=(int(image.shape[0]/300),int(image.shape[1]/300)),dpi=500)\n",
    "for ct in cts:\n",
    "    plt.scatter(smp.obs['pixel_x']*4,smp.obs['pixel_y']*4,alpha=ss[ct],c=coldict[ct],s=15,linewidth=0)\n",
    "    plt.title(ct)\n",
    "    plt.xlim(0,image.shape[0])\n",
    "    plt.ylim(0,image.shape[1])\n",
    "plt.savefig(r'F:\\ISS\\plots_for_publication\\visium/plot_sp.pdf')"
   ]
  },
  {
   "cell_type": "code",
   "execution_count": null,
   "metadata": {},
   "outputs": [],
   "source": [
    "plt.figure(figsize=(int(image.shape[0]/300),int(image.shape[1]/300)),dpi=500)\n",
    "plt.imshow(image)\n",
    "cts=['Basal','Suprabasal','Club','VE','Muscle-smooth-airway-ASM','SMG-Duct']\n",
    "for ct in cts:\n",
    "    plt.scatter(smp.obs['pixel_x']*4,smp.obs['pixel_y']*4,alpha=ss[ct],c=coldict[ct],s=15,linewidth=0)\n",
    "    plt.title(ct)\n",
    "    plt.xlim(0,image.shape[0])\n",
    "    plt.ylim(0,image.shape[1])\n",
    "plt.savefig(r'F:\\ISS\\plots_for_publication\\visium/plot_sp.pdf')"
   ]
  },
  {
   "cell_type": "code",
   "execution_count": null,
   "metadata": {},
   "outputs": [],
   "source": [
    "plt.figure(figsize=(int(image.shape[0]/300),int(image.shape[1]/300)),dpi=500)\n",
    "plt.imshow(image)\n",
    "cts=['Basal','Ciliated','Suprabasal','VE-pulmonary-arterial']\n",
    "for ct in ss.columns:#cts:\n",
    "    try:\n",
    "        plt.figure()\n",
    "        plt.scatter(smp.obs['pixel_x']*4,smp.obs['pixel_y']*4,alpha=ss[ct],c=coldict[ct],s=20,linewidth=0)\n",
    "        plt.title(ct)\n",
    "    except:\n",
    "        plt.figure()\n",
    "        plt.scatter(smp.obs['pixel_x']*4,smp.obs['pixel_y']*4,alpha=ss[ct],c='red',s=20,linewidth=0)\n",
    "        plt.title(ct)"
   ]
  }
 ],
 "metadata": {
  "kernelspec": {
   "display_name": "scanpy_all",
   "language": "python",
   "name": "scanpy_all"
  },
  "language_info": {
   "codemirror_mode": {
    "name": "ipython",
    "version": 3
   },
   "file_extension": ".py",
   "mimetype": "text/x-python",
   "name": "python",
   "nbconvert_exporter": "python",
   "pygments_lexer": "ipython3",
   "version": "3.7.12"
  }
 },
 "nbformat": 4,
 "nbformat_minor": 4
}
