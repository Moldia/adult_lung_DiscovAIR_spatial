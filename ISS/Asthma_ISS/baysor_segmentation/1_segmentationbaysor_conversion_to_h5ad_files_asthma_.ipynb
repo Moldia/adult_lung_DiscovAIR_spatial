{
 "cells": [
  {
   "cell_type": "code",
   "execution_count": 1,
   "metadata": {},
   "outputs": [],
   "source": [
    "import numpy as np\n",
    "import matplotlib.pyplot as plt\n",
    "import pandas as pd\n",
    "import scanpy as sc"
   ]
  },
  {
   "cell_type": "code",
   "execution_count": 2,
   "metadata": {},
   "outputs": [],
   "source": [
    "path='F:/Analysis/baysor_segmentation_output/'\n",
    "sample='583B_LNG2'"
   ]
  },
  {
   "cell_type": "code",
   "execution_count": 3,
   "metadata": {},
   "outputs": [],
   "source": [
    "samples=['REGION1','REGION2','REGION4','REGION5','REGION6',\n",
    "        'REGION7','REGION8','REGION9','REGION10','REGION11']"
   ]
  },
  {
   "cell_type": "code",
   "execution_count": null,
   "metadata": {},
   "outputs": [],
   "source": []
  },
  {
   "cell_type": "code",
   "execution_count": 4,
   "metadata": {},
   "outputs": [],
   "source": [
    "for sample in samples:\n",
    "    readbased=pd.read_csv(path+sample)\n",
    "    readbased.to_csv(path+sample+'.csv')\n",
    "    tab=pd.read_csv(path+sample+'_cell_stats.csv')\n",
    "    exp=pd.read_csv(path+sample+\"_counts.tsv\",sep='\\t',index_col=0)\n",
    "    adata=sc.AnnData(exp.transpose())\n",
    "    adata.obs=tab\n",
    "    adata=sc.AnnData(exp.transpose())\n",
    "    adata.obs=tab\n",
    "    adata.write('F:/Analysis/adata/'+sample+'_adata.h5ad')"
   ]
  },
  {
   "cell_type": "code",
   "execution_count": 6,
   "metadata": {},
   "outputs": [
    {
     "data": {
      "text/plain": [
       "AnnData object with n_obs × n_vars = 47310 × 161\n",
       "    obs: 'cell', 'x', 'y', 'cluster', 'n_transcripts', 'density', 'elongation', 'area', 'avg_confidence'"
      ]
     },
     "execution_count": 6,
     "metadata": {},
     "output_type": "execute_result"
    }
   ],
   "source": [
    "adata"
   ]
  },
  {
   "cell_type": "code",
   "execution_count": 9,
   "metadata": {},
   "outputs": [],
   "source": []
  },
  {
   "cell_type": "code",
   "execution_count": 5,
   "metadata": {},
   "outputs": [],
   "source": [
    "sample='REGION1'"
   ]
  },
  {
   "cell_type": "code",
   "execution_count": 6,
   "metadata": {},
   "outputs": [],
   "source": [
    "readbased=pd.read_csv(path+sample)\n",
    "readbased.to_csv(path+sample+'.csv')\n",
    "tab=pd.read_csv(path+sample+'_cell_stats.csv')\n",
    "exp=pd.read_csv(path+sample+\"_counts.tsv\",sep='\\t',index_col=0)\n",
    "adata=sc.AnnData(exp.transpose())\n",
    "adata.obs=tab\n",
    "adata=sc.AnnData(exp.transpose())\n",
    "adata.obs=tab\n",
    "adata.write('F:/Analysis/adata/'+sample+'_adata.h5ad')"
   ]
  },
  {
   "cell_type": "code",
   "execution_count": null,
   "metadata": {},
   "outputs": [],
   "source": []
  }
 ],
 "metadata": {
  "kernelspec": {
   "display_name": "scanpy",
   "language": "python",
   "name": "scanpy"
  },
  "language_info": {
   "codemirror_mode": {
    "name": "ipython",
    "version": 3
   },
   "file_extension": ".py",
   "mimetype": "text/x-python",
   "name": "python",
   "nbconvert_exporter": "python",
   "pygments_lexer": "ipython3",
   "version": "3.8.5"
  }
 },
 "nbformat": 4,
 "nbformat_minor": 4
}
