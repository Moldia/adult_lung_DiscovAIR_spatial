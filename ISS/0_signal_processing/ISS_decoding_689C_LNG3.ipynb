{
 "cells": [
  {
   "cell_type": "markdown",
   "metadata": {
    "id": "jqmPM5cLA8N-"
   },
   "source": [
    "# notebook for decoding iss data"
   ]
  },
  {
   "cell_type": "markdown",
   "metadata": {
    "id": "ov4HBz19A8OD"
   },
   "source": [
    "## import packages"
   ]
  },
  {
   "cell_type": "code",
   "execution_count": 1,
   "metadata": {
    "id": "K_HpiR9QA8OD"
   },
   "outputs": [],
   "source": [
    "import align_2d_tiles\n",
    "import stitch_2d_mist\n",
    "import tile_stitched_images\n",
    "#import test_analysis"
   ]
  },
  {
   "cell_type": "code",
   "execution_count": 2,
   "metadata": {
    "id": "xf7zNPLGA8OE"
   },
   "outputs": [],
   "source": [
    "import pandas as pd\n",
    "import numpy as np\n",
    "import matplotlib as mpl\n",
    "import matplotlib.pyplot as plt\n",
    "from os import listdir\n",
    "from os.path import isfile, join\n",
    "import glob\n",
    "import tifffile\n",
    "from xml.dom import minidom\n",
    "import pandas as pd\n",
    "import numpy as np\n",
    "import os"
   ]
  },
  {
   "cell_type": "markdown",
   "metadata": {
    "id": "Yg9OQ9C5A8OE"
   },
   "source": [
    "## find the samples/sections to decode"
   ]
  },
  {
   "cell_type": "code",
   "execution_count": 3,
   "metadata": {
    "id": "br1-ZpizA8OF",
    "outputId": "034a02dd-5cbd-4bf7-bdfb-5a4d03a08128"
   },
   "outputs": [
    {
     "data": {
      "text/plain": [
       "['588B_LNG2',\n",
       " '689C_LNG1',\n",
       " '689C_LNG2',\n",
       " '689C_LNG3',\n",
       " '689C_LNG5',\n",
       " 'Discovair_codebook.csv']"
      ]
     },
     "execution_count": 3,
     "metadata": {},
     "output_type": "execute_result"
    }
   ],
   "source": [
    "input_dir = 'D:\\Processing/'\n",
    "sections = listdir(input_dir)\n",
    "sections"
   ]
  },
  {
   "cell_type": "markdown",
   "metadata": {
    "id": "fT9F9o3WA8OF"
   },
   "source": [
    "### in this section we will specify which sections we **DO NOT** want to process"
   ]
  },
  {
   "cell_type": "code",
   "execution_count": 4,
   "metadata": {
    "id": "NshvIRJtA8OG"
   },
   "outputs": [],
   "source": [
    "sections_to_remove = ['Cycle_1', 'Cycle_2', 'Cycle_3', 'Cycle_4', 'Cycle_5']\n",
    "\n",
    "sections = listdir(input_dir)\n",
    "sections = [x for x in sections if x not in sections_to_remove]"
   ]
  },
  {
   "cell_type": "code",
   "execution_count": 5,
   "metadata": {
    "id": "jgIe3bBNA8OG",
    "outputId": "65bd0cc2-f675-4527-9143-44646a7a4275"
   },
   "outputs": [],
   "source": [
    "sections=['689C_LNG3']"
   ]
  },
  {
   "cell_type": "markdown",
   "metadata": {
    "id": "jTG_7o2fA8OG"
   },
   "source": [
    "### specify where you want to put the files"
   ]
  },
  {
   "cell_type": "code",
   "execution_count": 6,
   "metadata": {
    "id": "Rjok6H6rA8OH"
   },
   "outputs": [],
   "source": [
    "output_dir = 'D:\\Processing/'"
   ]
  },
  {
   "cell_type": "markdown",
   "metadata": {
    "id": "GaRHw5BHA8OH"
   },
   "source": [
    "# stack images "
   ]
  },
  {
   "cell_type": "markdown",
   "metadata": {
    "id": "WTipXmLeA8OH"
   },
   "source": [
    "## batch process"
   ]
  },
  {
   "cell_type": "markdown",
   "metadata": {
    "id": "f4mZi0qtA8OH"
   },
   "source": [
    "## zeiss"
   ]
  },
  {
   "cell_type": "markdown",
   "metadata": {
    "id": "1N7gJIykA8OH"
   },
   "source": [
    "we need to make sure that we are stacking the correct files"
   ]
  },
  {
   "cell_type": "markdown",
   "metadata": {
    "id": "GakOGB3LA8OK"
   },
   "source": [
    "# matlab processing: alignment, stitching and tiling"
   ]
  },
  {
   "cell_type": "markdown",
   "metadata": {
    "id": "oDLrch1LA8OL"
   },
   "source": [
    "## add parameters"
   ]
  },
  {
   "cell_type": "code",
   "execution_count": 7,
   "metadata": {
    "id": "0xP7l40ZA8OL"
   },
   "outputs": [],
   "source": [
    "image_files = ('Base_1','Base_2','Base_3','Base_4','Base_5')\n",
    "\n",
    "taglist = \"C:/Users/chris.langseth/Downloads/Taglist_.csv\"\n",
    "nChannels = 5;\n",
    "reference_round = 1;\n",
    "tile_align_channel = 5; # for registration between rounds\n",
    "tile_stitch_channel = 5; # Cy3   % for registration between tiles"
   ]
  },
  {
   "cell_type": "markdown",
   "metadata": {
    "id": "ozcOhMjCA8OL"
   },
   "source": [
    "## align tiles"
   ]
  },
  {
   "cell_type": "code",
   "execution_count": 8,
   "metadata": {},
   "outputs": [
    {
     "data": {
      "text/plain": [
       "'D:\\\\Processing/'"
      ]
     },
     "execution_count": 8,
     "metadata": {},
     "output_type": "execute_result"
    }
   ],
   "source": [
    "output_dir"
   ]
  },
  {
   "cell_type": "code",
   "execution_count": 9,
   "metadata": {
    "id": "p8F4P5MRA8OL"
   },
   "outputs": [],
   "source": [
    "align = align_2d_tiles.initialize()\n"
   ]
  },
  {
   "cell_type": "code",
   "execution_count": 10,
   "metadata": {
    "id": "zdx4LzbmA8OM",
    "outputId": "418a67fa-e447-4101-a808-71711fc0a89a"
   },
   "outputs": [
    {
     "name": "stdout",
     "output_type": "stream",
     "text": [
      "689C_LNG3\n"
     ]
    }
   ],
   "source": [
    "for i, section in enumerate(sections):\n",
    "    print(section)\n",
    "    output_directory = output_dir + section + '/preprocessing/'\n",
    "    metadatafile = pd.read_csv(output_directory +  '2DTiles' + '/tile_coordinates_Base_1.csv', header = None);\n",
    "    nTiles = len(metadatafile)\n",
    "    align.align_2d_tiles((output_directory + '2DTiles'),image_files, output_directory, nChannels, nTiles, reference_round, tile_align_channel, nargout = 0)\n"
   ]
  },
  {
   "cell_type": "markdown",
   "metadata": {
    "id": "2N3azD0nA8OM"
   },
   "source": [
    "## stitch using the mist algorithm"
   ]
  },
  {
   "cell_type": "code",
   "execution_count": 11,
   "metadata": {
    "id": "YxuYKn-VA8OM"
   },
   "outputs": [],
   "source": [
    "stitch = stitch_2d_mist.initialize()"
   ]
  },
  {
   "cell_type": "code",
   "execution_count": 12,
   "metadata": {
    "id": "-yay-xXDA8OM",
    "outputId": "8e6375d1-f2a2-455f-a9f2-6500029809cc"
   },
   "outputs": [
    {
     "name": "stdout",
     "output_type": "stream",
     "text": [
      "689C_LNG3\n"
     ]
    }
   ],
   "source": [
    "for i, section in enumerate(sections):\n",
    "    print(section)\n",
    "    output_directory = output_dir + section + '/preprocessing/'\n",
    "    stitch.stitch_2d_mist((output_directory + '2DTiles'),image_files, output_directory, nChannels, tile_stitch_channel, reference_round, nargout = 0)"
   ]
  },
  {
   "cell_type": "markdown",
   "metadata": {
    "id": "1IIH_fHHA8ON"
   },
   "source": [
    "## tile stitched images"
   ]
  },
  {
   "cell_type": "code",
   "execution_count": 13,
   "metadata": {
    "id": "uSq2LN9tA8ON"
   },
   "outputs": [],
   "source": [
    "tile = tile_stitched_images.initialize()"
   ]
  },
  {
   "cell_type": "code",
   "execution_count": 14,
   "metadata": {
    "id": "7tLdMMgyA8ON",
    "outputId": "dcde73e4-47c0-498f-e13a-b7d483186927"
   },
   "outputs": [
    {
     "name": "stdout",
     "output_type": "stream",
     "text": [
      "689C_LNG3\n"
     ]
    }
   ],
   "source": [
    "for i, section in enumerate(sections):\n",
    "    #try:\n",
    "    print(section)\n",
    "    output_directory = output_dir + section + '/preprocessing/'\n",
    "    tile.tile_stitched_images((output_directory + 'Stitched2DTiles'),image_files, output_directory, float(6000), 'windows', nargout = 0)\n",
    "    #except MatlabRunTimeError:\n",
    "    #    continue\n",
    "        "
   ]
  },
  {
   "cell_type": "markdown",
   "metadata": {
    "id": "zSBKzLsRA8ON"
   },
   "source": [
    "## run preliminary analysis"
   ]
  },
  {
   "cell_type": "code",
   "execution_count": null,
   "metadata": {
    "id": "-SEpoY3QA8ON",
    "outputId": "9e17c1a7-71f1-4a0e-85c7-189f474706a5"
   },
   "outputs": [],
   "source": [
    "decoding = [2,3,4,5]\n",
    "from itertools import permutations  \n",
    "perm = permutations(decoding) \n",
    "perm = list(perm)\n",
    "perm"
   ]
  },
  {
   "cell_type": "code",
   "execution_count": null,
   "metadata": {
    "id": "ghZNp2vjA8ON"
   },
   "outputs": [],
   "source": [
    "perm = [(3, 4, 2, 5)]"
   ]
  },
  {
   "cell_type": "code",
   "execution_count": null,
   "metadata": {
    "id": "OgWwce2SA8OO"
   },
   "outputs": [],
   "source": [
    "analysis = test_analysis.initialize()"
   ]
  },
  {
   "cell_type": "code",
   "execution_count": null,
   "metadata": {
    "id": "fv4JOSPhA8OO",
    "outputId": "5b4c1e89-1899-4122-e7a6-dbe620614616"
   },
   "outputs": [
    {
     "name": "stdout",
     "output_type": "stream",
     "text": [
      "02A_Export\n",
      "(3.0, 4.0, 2.0, 5.0)\n"
     ]
    }
   ],
   "source": [
    "for i, section in enumerate(sections):\n",
    "    print(section)\n",
    "    for j, decoding_int in enumerate(perm):\n",
    "        decoding_mod = (float(perm[j][0]), float(perm[j][1]), float(perm[j][2]), float(perm[j][3]))\n",
    "        print(decoding_mod)\n",
    "        output_directory = output_dir + section + '/preprocessing/'\n",
    "        newMetaDataFile = pd.read_csv(output_directory +  'ReslicedTiles' + '/tilepos.csv', header = None)\n",
    "        nTiles = len(newMetaDataFile)\n",
    "        analysis.test_analysis((output_directory + 'ReslicedTiles'),image_files, output_directory, nTiles, (decoding_mod), taglist, 'windows', nargout = 0)\n"
   ]
  },
  {
   "cell_type": "markdown",
   "metadata": {
    "id": "bj29oXXOA8OO"
   },
   "source": [
    "## inspect data"
   ]
  },
  {
   "cell_type": "code",
   "execution_count": null,
   "metadata": {
    "id": "Z1U13_daA8OO"
   },
   "outputs": [],
   "source": [
    "barcodes_df = pd.read_csv(\"C:/Users/chris.langseth/Documents/mouseDev/\" + section + \"/preprocessing/3425spots_with_coords_noNNNNs.csv\")"
   ]
  },
  {
   "cell_type": "code",
   "execution_count": null,
   "metadata": {
    "id": "oA4bis1iA8OO",
    "outputId": "ce9d0899-86ea-4c5a-d77e-bea3f3870946"
   },
   "outputs": [
    {
     "data": {
      "text/html": [
       "<div>\n",
       "<style scoped>\n",
       "    .dataframe tbody tr th:only-of-type {\n",
       "        vertical-align: middle;\n",
       "    }\n",
       "\n",
       "    .dataframe tbody tr th {\n",
       "        vertical-align: top;\n",
       "    }\n",
       "\n",
       "    .dataframe thead th {\n",
       "        text-align: right;\n",
       "    }\n",
       "</style>\n",
       "<table border=\"1\" class=\"dataframe\">\n",
       "  <thead>\n",
       "    <tr style=\"text-align: right;\">\n",
       "      <th></th>\n",
       "      <th>name</th>\n",
       "      <th>barcode</th>\n",
       "      <th>pos1</th>\n",
       "      <th>pos2</th>\n",
       "    </tr>\n",
       "  </thead>\n",
       "  <tbody>\n",
       "    <tr>\n",
       "      <th>0</th>\n",
       "      <td>Fezf1</td>\n",
       "      <td>GCCTA</td>\n",
       "      <td>1861</td>\n",
       "      <td>540</td>\n",
       "    </tr>\n",
       "    <tr>\n",
       "      <th>1</th>\n",
       "      <td>Lmo2</td>\n",
       "      <td>TTGTT</td>\n",
       "      <td>1892</td>\n",
       "      <td>465</td>\n",
       "    </tr>\n",
       "    <tr>\n",
       "      <th>2</th>\n",
       "      <td>Fezf2</td>\n",
       "      <td>TGTTT</td>\n",
       "      <td>1901</td>\n",
       "      <td>456</td>\n",
       "    </tr>\n",
       "    <tr>\n",
       "      <th>3</th>\n",
       "      <td>Efna2</td>\n",
       "      <td>CCGCG</td>\n",
       "      <td>1915</td>\n",
       "      <td>526</td>\n",
       "    </tr>\n",
       "    <tr>\n",
       "      <th>4</th>\n",
       "      <td>Fezf2</td>\n",
       "      <td>TGTTT</td>\n",
       "      <td>1922</td>\n",
       "      <td>1524</td>\n",
       "    </tr>\n",
       "    <tr>\n",
       "      <th>...</th>\n",
       "      <td>...</td>\n",
       "      <td>...</td>\n",
       "      <td>...</td>\n",
       "      <td>...</td>\n",
       "    </tr>\n",
       "    <tr>\n",
       "      <th>58700</th>\n",
       "      <td>Ntf3</td>\n",
       "      <td>GCACT</td>\n",
       "      <td>7555</td>\n",
       "      <td>8514</td>\n",
       "    </tr>\n",
       "    <tr>\n",
       "      <th>58701</th>\n",
       "      <td>Tfap2c</td>\n",
       "      <td>GCAAG</td>\n",
       "      <td>7572</td>\n",
       "      <td>8473</td>\n",
       "    </tr>\n",
       "    <tr>\n",
       "      <th>58702</th>\n",
       "      <td>Fgf8</td>\n",
       "      <td>GTCCA</td>\n",
       "      <td>7572</td>\n",
       "      <td>9199</td>\n",
       "    </tr>\n",
       "    <tr>\n",
       "      <th>58703</th>\n",
       "      <td>Fgf8</td>\n",
       "      <td>GTCCA</td>\n",
       "      <td>7576</td>\n",
       "      <td>8792</td>\n",
       "    </tr>\n",
       "    <tr>\n",
       "      <th>58704</th>\n",
       "      <td>Sema5a</td>\n",
       "      <td>GCTCA</td>\n",
       "      <td>7579</td>\n",
       "      <td>8724</td>\n",
       "    </tr>\n",
       "  </tbody>\n",
       "</table>\n",
       "<p>58705 rows × 4 columns</p>\n",
       "</div>"
      ],
      "text/plain": [
       "         name barcode  pos1  pos2\n",
       "0       Fezf1   GCCTA  1861   540\n",
       "1        Lmo2   TTGTT  1892   465\n",
       "2       Fezf2   TGTTT  1901   456\n",
       "3       Efna2   CCGCG  1915   526\n",
       "4       Fezf2   TGTTT  1922  1524\n",
       "...       ...     ...   ...   ...\n",
       "58700    Ntf3   GCACT  7555  8514\n",
       "58701  Tfap2c   GCAAG  7572  8473\n",
       "58702    Fgf8   GTCCA  7572  9199\n",
       "58703    Fgf8   GTCCA  7576  8792\n",
       "58704  Sema5a   GCTCA  7579  8724\n",
       "\n",
       "[58705 rows x 4 columns]"
      ]
     },
     "execution_count": 22,
     "metadata": {
      "tags": []
     },
     "output_type": "execute_result"
    }
   ],
   "source": [
    "barcodes_df"
   ]
  },
  {
   "cell_type": "code",
   "execution_count": null,
   "metadata": {
    "id": "ARG3BTacA8OO"
   },
   "outputs": [],
   "source": [
    "mpl.rcParams['figure.dpi'] = 500\n",
    "grouped = barcodes_df.groupby('name')\n",
    "fig, ax = plt.subplots()\n",
    "ax.margins(0.05) # Optional, just adds 5% padding to the autoscaling\n",
    "for name1, group1 in grouped:\n",
    "    ax.scatter(group1.pos1, group1.pos2, marker='.',linewidth = 0,s=0.05, label=name1)\n",
    "#ax.legend()\n",
    "plt.gca().invert_yaxis()\n",
    "plt.axis('off')\n",
    "plt.axis('scaled')\n",
    "plt.show()"
   ]
  },
  {
   "cell_type": "code",
   "execution_count": null,
   "metadata": {
    "id": "nq7c6NZuA8OO"
   },
   "outputs": [],
   "source": []
  }
 ],
 "metadata": {
  "colab": {
   "name": "ISS_decoding_pipeline.ipynb",
   "provenance": []
  },
  "kernelspec": {
   "display_name": "pipeline",
   "language": "python",
   "name": "pipeline"
  },
  "language_info": {
   "codemirror_mode": {
    "name": "ipython",
    "version": 3
   },
   "file_extension": ".py",
   "mimetype": "text/x-python",
   "name": "python",
   "nbconvert_exporter": "python",
   "pygments_lexer": "ipython3",
   "version": "3.7.10"
  }
 },
 "nbformat": 4,
 "nbformat_minor": 1
}
