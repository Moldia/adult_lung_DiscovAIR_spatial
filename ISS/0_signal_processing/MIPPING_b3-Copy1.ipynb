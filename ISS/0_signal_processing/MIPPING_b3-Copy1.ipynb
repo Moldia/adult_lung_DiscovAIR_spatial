{
 "cells": [
  {
   "cell_type": "code",
   "execution_count": 1,
   "metadata": {},
   "outputs": [],
   "source": [
    "from tifffile import imread\n",
    "import tifffile\n",
    "import numpy as np\n",
    "import os\n",
    "import pandas as pd"
   ]
  },
  {
   "cell_type": "code",
   "execution_count": 2,
   "metadata": {},
   "outputs": [],
   "source": [
    "\n",
    "input_dir = r\"D:/A52b_DISCOVAIR_R3/Cycle 3/2022_03_29_08_04_38--588B LNG2_Cycle 3_001/\"\n",
    "input_dir = input_dir.replace(\"\\\\\", \"/\")\n",
    "input_dir = input_dir.replace(\"\\\\\", \"/\")\n",
    "output_dir = 'D:\\Processing/588B_LNG2/'\n",
    "files = os.listdir(input_dir)"
   ]
  },
  {
   "cell_type": "code",
   "execution_count": 3,
   "metadata": {},
   "outputs": [],
   "source": [
    "tifs =  [k for k in files if 'dw' not in k] # filter for deconvolved images\n",
    "tifs =  [k for k in tifs if '.tif' in k]\n",
    "tifs =  [k for k in tifs if '.txt' not in k]"
   ]
  },
  {
   "cell_type": "code",
   "execution_count": 4,
   "metadata": {},
   "outputs": [],
   "source": [
    "tifs =  [k for k in tifs if 'Corrected' in k]\n",
    "split_underscore = pd.DataFrame(tifs)[0].str.split('--', expand = True)\n"
   ]
  },
  {
   "cell_type": "code",
   "execution_count": 5,
   "metadata": {},
   "outputs": [],
   "source": [
    "bases = [3]\n",
    "tiles = sorted(split_underscore[1].unique())\n",
    "channels = split_underscore[3].unique()"
   ]
  },
  {
   "cell_type": "code",
   "execution_count": null,
   "metadata": {},
   "outputs": [
    {
     "name": "stdout",
     "output_type": "stream",
     "text": [
      "Stage00\n",
      "Stage01\n",
      "Stage02\n",
      "Stage03\n"
     ]
    }
   ],
   "source": [
    "\n",
    "folder_output = output_dir + '/preprocessing/2DTiles/'\n",
    "if not os.path.exists(folder_output):\n",
    "    os.makedirs(folder_output)\n",
    "for ååå, w in enumerate(sorted(bases)):\n",
    "    for f,i in enumerate(tiles):\n",
    "        print(i)\n",
    "        tifs_base_tile = [k for k in tifs if str(i)+'--' in k]\n",
    "        file_name = (folder_output+'Base_'+ str(int(w)) + '_t' + str(int(i.split('Stage')[1])+1) + '.tif')\n",
    "        if os.path.isfile(file_name)==True and os.path.getsize(file_name)>40000000:\n",
    "            print('already exists')\n",
    "        else:\n",
    "            with tifffile.TiffWriter(file_name) as stack:\n",
    "                for å,z in enumerate(sorted(list(channels))):\n",
    "                    tifs_base_tile_channel = [k for k in tifs_base_tile if str(z) in k]\n",
    "                    maxi = np.zeros((2048,2048))\n",
    "                    for q in (tifs_base_tile_channel):\n",
    "                        im_array = imread(input_dir + q)\n",
    "                        inds = im_array > maxi # find where image intensity > max intensity\n",
    "                        maxi[inds] = im_array[inds]\n",
    "                    maxi = maxi.astype('uint16')\n",
    "                    stack.save(maxi)"
   ]
  },
  {
   "cell_type": "code",
   "execution_count": null,
   "metadata": {},
   "outputs": [],
   "source": []
  },
  {
   "cell_type": "code",
   "execution_count": null,
   "metadata": {},
   "outputs": [],
   "source": []
  }
 ],
 "metadata": {
  "kernelspec": {
   "display_name": "scanpy",
   "language": "python",
   "name": "scanpy"
  },
  "language_info": {
   "codemirror_mode": {
    "name": "ipython",
    "version": 3
   },
   "file_extension": ".py",
   "mimetype": "text/x-python",
   "name": "python",
   "nbconvert_exporter": "python",
   "pygments_lexer": "ipython3",
   "version": "3.8.5"
  }
 },
 "nbformat": 4,
 "nbformat_minor": 4
}
